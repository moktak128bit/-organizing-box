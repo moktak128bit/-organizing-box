{
 "cells": [
  {
   "cell_type": "code",
   "execution_count": null,
   "metadata": {},
   "outputs": [],
   "source": [
    "import yaml"
   ]
  },
  {
   "cell_type": "code",
   "execution_count": 2,
   "metadata": {},
   "outputs": [],
   "source": [
    "data = {'train': 'C:/Users/tj/Desktop/vsc/ubuntu/1workspace/win_server/deep_learning/yolo_practice/train/images',\n",
    "        'val': 'C:/Users/tj/Desktop/vsc/ubuntu/1workspace/win_server/deep_learning/yolo_practice/valid/images',\n",
    "        'test': 'C:/Users/tj/Desktop/vsc/ubuntu/1workspace/win_server/deep_learning/yolo_practice/test/images',\n",
    "        'names': ['muzzle-pattern'],\n",
    "        'nc': 1}"
   ]
  },
  {
   "cell_type": "code",
   "execution_count": 4,
   "metadata": {},
   "outputs": [],
   "source": [
    "with open('C:/Users/tj/Desktop/vsc/ubuntu/1workspace/win_server/deep_learning/yolo_practice/data.yaml', 'w') as f:\n",
    "    yaml.dump(data,f)"
   ]
  },
  {
   "cell_type": "code",
   "execution_count": 5,
   "metadata": {},
   "outputs": [
    {
     "data": {
      "text/plain": [
       "{'names': ['muzzle-pattern'],\n",
       " 'nc': 1,\n",
       " 'test': 'C:/Users/tj/Desktop/vsc/ubuntu/1workspace/win_server/deep_learning/yolo_practice/test/images',\n",
       " 'train': 'C:/Users/tj/Desktop/vsc/ubuntu/1workspace/win_server/deep_learning/yolo_practice/train/images',\n",
       " 'val': 'C:/Users/tj/Desktop/vsc/ubuntu/1workspace/win_server/deep_learning/yolo_practice/valid/images'}"
      ]
     },
     "metadata": {},
     "output_type": "display_data"
    }
   ],
   "source": [
    "with open('C:/Users/tj/Desktop/vsc/ubuntu/1workspace/win_server/deep_learning/yolo_practice/data.yaml', 'r') as f:\n",
    "    data_yaml=yaml.safe_load(f)\n",
    "    display(data_yaml)"
   ]
  }
 ],
 "metadata": {
  "kernelspec": {
   "display_name": "Python 3",
   "language": "python",
   "name": "python3"
  },
  "language_info": {
   "codemirror_mode": {
    "name": "ipython",
    "version": 3
   },
   "file_extension": ".py",
   "mimetype": "text/x-python",
   "name": "python",
   "nbconvert_exporter": "python",
   "pygments_lexer": "ipython3",
   "version": "3.11.9"
  },
  "orig_nbformat": 4
 },
 "nbformat": 4,
 "nbformat_minor": 2
}
